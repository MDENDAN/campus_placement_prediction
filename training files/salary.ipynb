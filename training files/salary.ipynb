{
 "cells": [
  {
   "cell_type": "code",
   "execution_count": 1,
   "id": "3b853c88",
   "metadata": {
    "id": "3b853c88"
   },
   "outputs": [],
   "source": [
    "import pandas as pd\n",
    "from sklearn.preprocessing import LabelEncoder"
   ]
  },
  {
   "cell_type": "code",
   "execution_count": 3,
   "id": "3435001d",
   "metadata": {
    "colab": {
     "base_uri": "https://localhost:8080/"
    },
    "id": "3435001d",
    "outputId": "b62d5c04-cdc8-48cb-8d14-50c6c5bda432"
   },
   "outputs": [
    {
     "name": "stdout",
     "output_type": "stream",
     "text": [
      "Features shape: (21285, 12)\n",
      "Class shape: (21285,)\n"
     ]
    }
   ],
   "source": [
    "# Training #\n",
    "df=pd.read_csv('data\\Placement_Data_Full_Class.csv')\n",
    "# Initialize the LabelEncoder\n",
    "label_encoder = LabelEncoder()\n",
    "\n",
    "# Specify the list of columns you want to label encode\n",
    "categorical_columns = ['gender', 'ssc_b', 'hsc_b', 'hsc_s', 'degree_t', 'workex', 'specialisation']\n",
    "\n",
    "# Apply label encoding to each column\n",
    "for column in categorical_columns:\n",
    "    df[column] = label_encoder.fit_transform(df[column])\n",
    "df['status'] = df['status'].replace({'Placed': 1, 'Not Placed': 0})\n",
    "X =df.drop(['sl_no','status','salary'], axis=1)\n",
    "Y =df['status']\n",
    "print('Features shape:', X.shape)\n",
    "print('Class shape:', Y.shape)"
   ]
  },
  {
   "cell_type": "code",
   "execution_count": 4,
   "id": "1ab7147e",
   "metadata": {
    "colab": {
     "base_uri": "https://localhost:8080/",
     "height": 444
    },
    "id": "1ab7147e",
    "outputId": "7514986d-df7e-4de3-df32-c50b994428d1"
   },
   "outputs": [
    {
     "data": {
      "text/html": [
       "<div>\n",
       "<style scoped>\n",
       "    .dataframe tbody tr th:only-of-type {\n",
       "        vertical-align: middle;\n",
       "    }\n",
       "\n",
       "    .dataframe tbody tr th {\n",
       "        vertical-align: top;\n",
       "    }\n",
       "\n",
       "    .dataframe thead th {\n",
       "        text-align: right;\n",
       "    }\n",
       "</style>\n",
       "<table border=\"1\" class=\"dataframe\">\n",
       "  <thead>\n",
       "    <tr style=\"text-align: right;\">\n",
       "      <th></th>\n",
       "      <th>sl_no</th>\n",
       "      <th>gender</th>\n",
       "      <th>ssc_p</th>\n",
       "      <th>ssc_b</th>\n",
       "      <th>hsc_p</th>\n",
       "      <th>hsc_b</th>\n",
       "      <th>hsc_s</th>\n",
       "      <th>degree_p</th>\n",
       "      <th>degree_t</th>\n",
       "      <th>workex</th>\n",
       "      <th>etest_p</th>\n",
       "      <th>specialisation</th>\n",
       "      <th>mba_p</th>\n",
       "      <th>status</th>\n",
       "      <th>salary</th>\n",
       "    </tr>\n",
       "  </thead>\n",
       "  <tbody>\n",
       "    <tr>\n",
       "      <th>0</th>\n",
       "      <td>1</td>\n",
       "      <td>1</td>\n",
       "      <td>67.00</td>\n",
       "      <td>1</td>\n",
       "      <td>91.00</td>\n",
       "      <td>1</td>\n",
       "      <td>1</td>\n",
       "      <td>58.00</td>\n",
       "      <td>2</td>\n",
       "      <td>0</td>\n",
       "      <td>55.0</td>\n",
       "      <td>1</td>\n",
       "      <td>58.80</td>\n",
       "      <td>1</td>\n",
       "      <td>270000.0</td>\n",
       "    </tr>\n",
       "    <tr>\n",
       "      <th>1</th>\n",
       "      <td>2</td>\n",
       "      <td>1</td>\n",
       "      <td>79.33</td>\n",
       "      <td>0</td>\n",
       "      <td>78.33</td>\n",
       "      <td>1</td>\n",
       "      <td>2</td>\n",
       "      <td>77.48</td>\n",
       "      <td>2</td>\n",
       "      <td>1</td>\n",
       "      <td>86.5</td>\n",
       "      <td>0</td>\n",
       "      <td>66.28</td>\n",
       "      <td>1</td>\n",
       "      <td>200000.0</td>\n",
       "    </tr>\n",
       "    <tr>\n",
       "      <th>2</th>\n",
       "      <td>3</td>\n",
       "      <td>1</td>\n",
       "      <td>65.00</td>\n",
       "      <td>0</td>\n",
       "      <td>68.00</td>\n",
       "      <td>0</td>\n",
       "      <td>0</td>\n",
       "      <td>64.00</td>\n",
       "      <td>0</td>\n",
       "      <td>0</td>\n",
       "      <td>75.0</td>\n",
       "      <td>0</td>\n",
       "      <td>57.80</td>\n",
       "      <td>1</td>\n",
       "      <td>250000.0</td>\n",
       "    </tr>\n",
       "    <tr>\n",
       "      <th>3</th>\n",
       "      <td>4</td>\n",
       "      <td>1</td>\n",
       "      <td>56.00</td>\n",
       "      <td>0</td>\n",
       "      <td>52.00</td>\n",
       "      <td>0</td>\n",
       "      <td>2</td>\n",
       "      <td>52.00</td>\n",
       "      <td>2</td>\n",
       "      <td>0</td>\n",
       "      <td>66.0</td>\n",
       "      <td>1</td>\n",
       "      <td>59.43</td>\n",
       "      <td>0</td>\n",
       "      <td>NaN</td>\n",
       "    </tr>\n",
       "    <tr>\n",
       "      <th>4</th>\n",
       "      <td>5</td>\n",
       "      <td>1</td>\n",
       "      <td>85.80</td>\n",
       "      <td>0</td>\n",
       "      <td>73.60</td>\n",
       "      <td>0</td>\n",
       "      <td>1</td>\n",
       "      <td>73.30</td>\n",
       "      <td>0</td>\n",
       "      <td>0</td>\n",
       "      <td>96.8</td>\n",
       "      <td>0</td>\n",
       "      <td>55.50</td>\n",
       "      <td>1</td>\n",
       "      <td>425000.0</td>\n",
       "    </tr>\n",
       "    <tr>\n",
       "      <th>...</th>\n",
       "      <td>...</td>\n",
       "      <td>...</td>\n",
       "      <td>...</td>\n",
       "      <td>...</td>\n",
       "      <td>...</td>\n",
       "      <td>...</td>\n",
       "      <td>...</td>\n",
       "      <td>...</td>\n",
       "      <td>...</td>\n",
       "      <td>...</td>\n",
       "      <td>...</td>\n",
       "      <td>...</td>\n",
       "      <td>...</td>\n",
       "      <td>...</td>\n",
       "      <td>...</td>\n",
       "    </tr>\n",
       "    <tr>\n",
       "      <th>21280</th>\n",
       "      <td>21281</td>\n",
       "      <td>1</td>\n",
       "      <td>80.60</td>\n",
       "      <td>1</td>\n",
       "      <td>82.00</td>\n",
       "      <td>1</td>\n",
       "      <td>1</td>\n",
       "      <td>77.60</td>\n",
       "      <td>0</td>\n",
       "      <td>0</td>\n",
       "      <td>91.0</td>\n",
       "      <td>0</td>\n",
       "      <td>74.49</td>\n",
       "      <td>1</td>\n",
       "      <td>400000.0</td>\n",
       "    </tr>\n",
       "    <tr>\n",
       "      <th>21281</th>\n",
       "      <td>21282</td>\n",
       "      <td>1</td>\n",
       "      <td>58.00</td>\n",
       "      <td>1</td>\n",
       "      <td>60.00</td>\n",
       "      <td>1</td>\n",
       "      <td>2</td>\n",
       "      <td>72.00</td>\n",
       "      <td>2</td>\n",
       "      <td>0</td>\n",
       "      <td>74.0</td>\n",
       "      <td>0</td>\n",
       "      <td>53.62</td>\n",
       "      <td>1</td>\n",
       "      <td>275000.0</td>\n",
       "    </tr>\n",
       "    <tr>\n",
       "      <th>21282</th>\n",
       "      <td>21283</td>\n",
       "      <td>1</td>\n",
       "      <td>67.00</td>\n",
       "      <td>1</td>\n",
       "      <td>67.00</td>\n",
       "      <td>1</td>\n",
       "      <td>1</td>\n",
       "      <td>73.00</td>\n",
       "      <td>0</td>\n",
       "      <td>1</td>\n",
       "      <td>59.0</td>\n",
       "      <td>0</td>\n",
       "      <td>69.72</td>\n",
       "      <td>1</td>\n",
       "      <td>295000.0</td>\n",
       "    </tr>\n",
       "    <tr>\n",
       "      <th>21283</th>\n",
       "      <td>21284</td>\n",
       "      <td>0</td>\n",
       "      <td>74.00</td>\n",
       "      <td>1</td>\n",
       "      <td>66.00</td>\n",
       "      <td>1</td>\n",
       "      <td>1</td>\n",
       "      <td>58.00</td>\n",
       "      <td>0</td>\n",
       "      <td>0</td>\n",
       "      <td>70.0</td>\n",
       "      <td>1</td>\n",
       "      <td>60.23</td>\n",
       "      <td>1</td>\n",
       "      <td>204000.0</td>\n",
       "    </tr>\n",
       "    <tr>\n",
       "      <th>21284</th>\n",
       "      <td>21285</td>\n",
       "      <td>1</td>\n",
       "      <td>62.00</td>\n",
       "      <td>0</td>\n",
       "      <td>58.00</td>\n",
       "      <td>1</td>\n",
       "      <td>2</td>\n",
       "      <td>53.00</td>\n",
       "      <td>0</td>\n",
       "      <td>0</td>\n",
       "      <td>89.0</td>\n",
       "      <td>1</td>\n",
       "      <td>60.22</td>\n",
       "      <td>0</td>\n",
       "      <td>NaN</td>\n",
       "    </tr>\n",
       "  </tbody>\n",
       "</table>\n",
       "<p>21285 rows × 15 columns</p>\n",
       "</div>"
      ],
      "text/plain": [
       "       sl_no  gender  ssc_p  ssc_b  hsc_p  hsc_b  hsc_s  degree_p  degree_t  \\\n",
       "0          1       1  67.00      1  91.00      1      1     58.00         2   \n",
       "1          2       1  79.33      0  78.33      1      2     77.48         2   \n",
       "2          3       1  65.00      0  68.00      0      0     64.00         0   \n",
       "3          4       1  56.00      0  52.00      0      2     52.00         2   \n",
       "4          5       1  85.80      0  73.60      0      1     73.30         0   \n",
       "...      ...     ...    ...    ...    ...    ...    ...       ...       ...   \n",
       "21280  21281       1  80.60      1  82.00      1      1     77.60         0   \n",
       "21281  21282       1  58.00      1  60.00      1      2     72.00         2   \n",
       "21282  21283       1  67.00      1  67.00      1      1     73.00         0   \n",
       "21283  21284       0  74.00      1  66.00      1      1     58.00         0   \n",
       "21284  21285       1  62.00      0  58.00      1      2     53.00         0   \n",
       "\n",
       "       workex  etest_p  specialisation  mba_p  status    salary  \n",
       "0           0     55.0               1  58.80       1  270000.0  \n",
       "1           1     86.5               0  66.28       1  200000.0  \n",
       "2           0     75.0               0  57.80       1  250000.0  \n",
       "3           0     66.0               1  59.43       0       NaN  \n",
       "4           0     96.8               0  55.50       1  425000.0  \n",
       "...       ...      ...             ...    ...     ...       ...  \n",
       "21280       0     91.0               0  74.49       1  400000.0  \n",
       "21281       0     74.0               0  53.62       1  275000.0  \n",
       "21282       1     59.0               0  69.72       1  295000.0  \n",
       "21283       0     70.0               1  60.23       1  204000.0  \n",
       "21284       0     89.0               1  60.22       0       NaN  \n",
       "\n",
       "[21285 rows x 15 columns]"
      ]
     },
     "execution_count": 4,
     "metadata": {},
     "output_type": "execute_result"
    }
   ],
   "source": [
    "df"
   ]
  },
  {
   "cell_type": "code",
   "execution_count": 5,
   "id": "bfb89679",
   "metadata": {
    "colab": {
     "base_uri": "https://localhost:8080/",
     "height": 444
    },
    "id": "bfb89679",
    "outputId": "416f85ae-4915-4f5a-89a9-4b03f090ef2d"
   },
   "outputs": [
    {
     "data": {
      "text/html": [
       "<div>\n",
       "<style scoped>\n",
       "    .dataframe tbody tr th:only-of-type {\n",
       "        vertical-align: middle;\n",
       "    }\n",
       "\n",
       "    .dataframe tbody tr th {\n",
       "        vertical-align: top;\n",
       "    }\n",
       "\n",
       "    .dataframe thead th {\n",
       "        text-align: right;\n",
       "    }\n",
       "</style>\n",
       "<table border=\"1\" class=\"dataframe\">\n",
       "  <thead>\n",
       "    <tr style=\"text-align: right;\">\n",
       "      <th></th>\n",
       "      <th>sl_no</th>\n",
       "      <th>gender</th>\n",
       "      <th>ssc_p</th>\n",
       "      <th>ssc_b</th>\n",
       "      <th>hsc_p</th>\n",
       "      <th>hsc_b</th>\n",
       "      <th>hsc_s</th>\n",
       "      <th>degree_p</th>\n",
       "      <th>degree_t</th>\n",
       "      <th>workex</th>\n",
       "      <th>etest_p</th>\n",
       "      <th>specialisation</th>\n",
       "      <th>mba_p</th>\n",
       "      <th>status</th>\n",
       "      <th>salary</th>\n",
       "    </tr>\n",
       "  </thead>\n",
       "  <tbody>\n",
       "    <tr>\n",
       "      <th>0</th>\n",
       "      <td>1</td>\n",
       "      <td>1</td>\n",
       "      <td>67.00</td>\n",
       "      <td>1</td>\n",
       "      <td>91.00</td>\n",
       "      <td>1</td>\n",
       "      <td>1</td>\n",
       "      <td>58.00</td>\n",
       "      <td>2</td>\n",
       "      <td>0</td>\n",
       "      <td>55.0</td>\n",
       "      <td>1</td>\n",
       "      <td>58.80</td>\n",
       "      <td>1</td>\n",
       "      <td>270000.0</td>\n",
       "    </tr>\n",
       "    <tr>\n",
       "      <th>1</th>\n",
       "      <td>2</td>\n",
       "      <td>1</td>\n",
       "      <td>79.33</td>\n",
       "      <td>0</td>\n",
       "      <td>78.33</td>\n",
       "      <td>1</td>\n",
       "      <td>2</td>\n",
       "      <td>77.48</td>\n",
       "      <td>2</td>\n",
       "      <td>1</td>\n",
       "      <td>86.5</td>\n",
       "      <td>0</td>\n",
       "      <td>66.28</td>\n",
       "      <td>1</td>\n",
       "      <td>200000.0</td>\n",
       "    </tr>\n",
       "    <tr>\n",
       "      <th>2</th>\n",
       "      <td>3</td>\n",
       "      <td>1</td>\n",
       "      <td>65.00</td>\n",
       "      <td>0</td>\n",
       "      <td>68.00</td>\n",
       "      <td>0</td>\n",
       "      <td>0</td>\n",
       "      <td>64.00</td>\n",
       "      <td>0</td>\n",
       "      <td>0</td>\n",
       "      <td>75.0</td>\n",
       "      <td>0</td>\n",
       "      <td>57.80</td>\n",
       "      <td>1</td>\n",
       "      <td>250000.0</td>\n",
       "    </tr>\n",
       "    <tr>\n",
       "      <th>4</th>\n",
       "      <td>5</td>\n",
       "      <td>1</td>\n",
       "      <td>85.80</td>\n",
       "      <td>0</td>\n",
       "      <td>73.60</td>\n",
       "      <td>0</td>\n",
       "      <td>1</td>\n",
       "      <td>73.30</td>\n",
       "      <td>0</td>\n",
       "      <td>0</td>\n",
       "      <td>96.8</td>\n",
       "      <td>0</td>\n",
       "      <td>55.50</td>\n",
       "      <td>1</td>\n",
       "      <td>425000.0</td>\n",
       "    </tr>\n",
       "    <tr>\n",
       "      <th>7</th>\n",
       "      <td>8</td>\n",
       "      <td>1</td>\n",
       "      <td>82.00</td>\n",
       "      <td>0</td>\n",
       "      <td>64.00</td>\n",
       "      <td>0</td>\n",
       "      <td>2</td>\n",
       "      <td>66.00</td>\n",
       "      <td>2</td>\n",
       "      <td>1</td>\n",
       "      <td>67.0</td>\n",
       "      <td>0</td>\n",
       "      <td>62.14</td>\n",
       "      <td>1</td>\n",
       "      <td>252000.0</td>\n",
       "    </tr>\n",
       "    <tr>\n",
       "      <th>...</th>\n",
       "      <td>...</td>\n",
       "      <td>...</td>\n",
       "      <td>...</td>\n",
       "      <td>...</td>\n",
       "      <td>...</td>\n",
       "      <td>...</td>\n",
       "      <td>...</td>\n",
       "      <td>...</td>\n",
       "      <td>...</td>\n",
       "      <td>...</td>\n",
       "      <td>...</td>\n",
       "      <td>...</td>\n",
       "      <td>...</td>\n",
       "      <td>...</td>\n",
       "      <td>...</td>\n",
       "    </tr>\n",
       "    <tr>\n",
       "      <th>21279</th>\n",
       "      <td>21280</td>\n",
       "      <td>1</td>\n",
       "      <td>62.00</td>\n",
       "      <td>0</td>\n",
       "      <td>72.00</td>\n",
       "      <td>0</td>\n",
       "      <td>1</td>\n",
       "      <td>65.00</td>\n",
       "      <td>0</td>\n",
       "      <td>0</td>\n",
       "      <td>67.0</td>\n",
       "      <td>0</td>\n",
       "      <td>56.49</td>\n",
       "      <td>1</td>\n",
       "      <td>216000.0</td>\n",
       "    </tr>\n",
       "    <tr>\n",
       "      <th>21280</th>\n",
       "      <td>21281</td>\n",
       "      <td>1</td>\n",
       "      <td>80.60</td>\n",
       "      <td>1</td>\n",
       "      <td>82.00</td>\n",
       "      <td>1</td>\n",
       "      <td>1</td>\n",
       "      <td>77.60</td>\n",
       "      <td>0</td>\n",
       "      <td>0</td>\n",
       "      <td>91.0</td>\n",
       "      <td>0</td>\n",
       "      <td>74.49</td>\n",
       "      <td>1</td>\n",
       "      <td>400000.0</td>\n",
       "    </tr>\n",
       "    <tr>\n",
       "      <th>21281</th>\n",
       "      <td>21282</td>\n",
       "      <td>1</td>\n",
       "      <td>58.00</td>\n",
       "      <td>1</td>\n",
       "      <td>60.00</td>\n",
       "      <td>1</td>\n",
       "      <td>2</td>\n",
       "      <td>72.00</td>\n",
       "      <td>2</td>\n",
       "      <td>0</td>\n",
       "      <td>74.0</td>\n",
       "      <td>0</td>\n",
       "      <td>53.62</td>\n",
       "      <td>1</td>\n",
       "      <td>275000.0</td>\n",
       "    </tr>\n",
       "    <tr>\n",
       "      <th>21282</th>\n",
       "      <td>21283</td>\n",
       "      <td>1</td>\n",
       "      <td>67.00</td>\n",
       "      <td>1</td>\n",
       "      <td>67.00</td>\n",
       "      <td>1</td>\n",
       "      <td>1</td>\n",
       "      <td>73.00</td>\n",
       "      <td>0</td>\n",
       "      <td>1</td>\n",
       "      <td>59.0</td>\n",
       "      <td>0</td>\n",
       "      <td>69.72</td>\n",
       "      <td>1</td>\n",
       "      <td>295000.0</td>\n",
       "    </tr>\n",
       "    <tr>\n",
       "      <th>21283</th>\n",
       "      <td>21284</td>\n",
       "      <td>0</td>\n",
       "      <td>74.00</td>\n",
       "      <td>1</td>\n",
       "      <td>66.00</td>\n",
       "      <td>1</td>\n",
       "      <td>1</td>\n",
       "      <td>58.00</td>\n",
       "      <td>0</td>\n",
       "      <td>0</td>\n",
       "      <td>70.0</td>\n",
       "      <td>1</td>\n",
       "      <td>60.23</td>\n",
       "      <td>1</td>\n",
       "      <td>204000.0</td>\n",
       "    </tr>\n",
       "  </tbody>\n",
       "</table>\n",
       "<p>14652 rows × 15 columns</p>\n",
       "</div>"
      ],
      "text/plain": [
       "       sl_no  gender  ssc_p  ssc_b  hsc_p  hsc_b  hsc_s  degree_p  degree_t  \\\n",
       "0          1       1  67.00      1  91.00      1      1     58.00         2   \n",
       "1          2       1  79.33      0  78.33      1      2     77.48         2   \n",
       "2          3       1  65.00      0  68.00      0      0     64.00         0   \n",
       "4          5       1  85.80      0  73.60      0      1     73.30         0   \n",
       "7          8       1  82.00      0  64.00      0      2     66.00         2   \n",
       "...      ...     ...    ...    ...    ...    ...    ...       ...       ...   \n",
       "21279  21280       1  62.00      0  72.00      0      1     65.00         0   \n",
       "21280  21281       1  80.60      1  82.00      1      1     77.60         0   \n",
       "21281  21282       1  58.00      1  60.00      1      2     72.00         2   \n",
       "21282  21283       1  67.00      1  67.00      1      1     73.00         0   \n",
       "21283  21284       0  74.00      1  66.00      1      1     58.00         0   \n",
       "\n",
       "       workex  etest_p  specialisation  mba_p  status    salary  \n",
       "0           0     55.0               1  58.80       1  270000.0  \n",
       "1           1     86.5               0  66.28       1  200000.0  \n",
       "2           0     75.0               0  57.80       1  250000.0  \n",
       "4           0     96.8               0  55.50       1  425000.0  \n",
       "7           1     67.0               0  62.14       1  252000.0  \n",
       "...       ...      ...             ...    ...     ...       ...  \n",
       "21279       0     67.0               0  56.49       1  216000.0  \n",
       "21280       0     91.0               0  74.49       1  400000.0  \n",
       "21281       0     74.0               0  53.62       1  275000.0  \n",
       "21282       1     59.0               0  69.72       1  295000.0  \n",
       "21283       0     70.0               1  60.23       1  204000.0  \n",
       "\n",
       "[14652 rows x 15 columns]"
      ]
     },
     "execution_count": 5,
     "metadata": {},
     "output_type": "execute_result"
    }
   ],
   "source": [
    "placed_df = df[df['status'] == 1]\n",
    "placed_df"
   ]
  },
  {
   "cell_type": "code",
   "execution_count": 6,
   "id": "94075e53",
   "metadata": {
    "colab": {
     "base_uri": "https://localhost:8080/"
    },
    "id": "94075e53",
    "outputId": "6e82e38f-bfc6-4f0d-8f27-472f821f4db5"
   },
   "outputs": [
    {
     "data": {
      "text/plain": [
       "0"
      ]
     },
     "execution_count": 6,
     "metadata": {},
     "output_type": "execute_result"
    }
   ],
   "source": [
    "placed_df['salary'].isnull().sum()"
   ]
  },
  {
   "cell_type": "code",
   "execution_count": 7,
   "id": "5ba8110f",
   "metadata": {
    "colab": {
     "base_uri": "https://localhost:8080/",
     "height": 472
    },
    "id": "5ba8110f",
    "outputId": "48685223-fa43-4c46-a111-d44c503e0bb4"
   },
   "outputs": [
    {
     "data": {
      "image/png": "[encoded data removed]",
      "text/plain": [
       "<Figure size 640x480 with 1 Axes>"
      ]
     },
     "metadata": {},
     "output_type": "display_data"
    }
   ],
   "source": [
    "import matplotlib.pyplot as plt\n",
    "# Create a histogram of the salary column\n",
    "plt.hist(placed_df['salary'], bins=20)\n",
    "plt.xlabel('Salary')\n",
    "plt.ylabel('Number of employees')\n",
    "plt.title('Distribution of salaries')\n",
    "plt.show()"
   ]
  },
  {
   "cell_type": "code",
   "execution_count": 8,
   "id": "29afc9a0",
   "metadata": {
    "colab": {
     "base_uri": "https://localhost:8080/",
     "height": 245
    },
    "id": "29afc9a0",
    "outputId": "8a64d366-2614-4f3f-9a40-58f933fb1805"
   },
   "outputs": [
    {
     "ename": "NameError",
     "evalue": "name 'sns' is not defined",
     "output_type": "error",
     "traceback": [
      "\u001b[1;31m---------------------------------------------------------------------------\u001b[0m",
      "\u001b[1;31mNameError\u001b[0m                                 Traceback (most recent call last)",
      "Cell \u001b[1;32mIn[8], line 2\u001b[0m\n\u001b[0;32m      1\u001b[0m \u001b[38;5;66;03m# Create a histogram of the 'salary' column\u001b[39;00m\n\u001b[1;32m----> 2\u001b[0m sns\u001b[38;5;241m.\u001b[39mhistplot(placed_df[\u001b[38;5;124m'\u001b[39m\u001b[38;5;124msalary\u001b[39m\u001b[38;5;124m'\u001b[39m], kde\u001b[38;5;241m=\u001b[39m\u001b[38;5;28;01mTrue\u001b[39;00m)\n\u001b[0;32m      3\u001b[0m plt\u001b[38;5;241m.\u001b[39mtitle(\u001b[38;5;124m'\u001b[39m\u001b[38;5;124mSalary Histogram\u001b[39m\u001b[38;5;124m'\u001b[39m)\n\u001b[0;32m      4\u001b[0m plt\u001b[38;5;241m.\u001b[39mxlabel(\u001b[38;5;124m'\u001b[39m\u001b[38;5;124mSalary\u001b[39m\u001b[38;5;124m'\u001b[39m)\n",
      "\u001b[1;31mNameError\u001b[0m: name 'sns' is not defined"
     ]
    }
   ],
   "source": [
    "# Create a histogram of the 'salary' column\n",
    "sns.histplot(placed_df['salary'], kde=True)\n",
    "plt.title('Salary Histogram')\n",
    "plt.xlabel('Salary')\n",
    "plt.ylabel('Frequency')\n",
    "plt.show()"
   ]
  },
  {
   "cell_type": "code",
   "execution_count": 9,
   "id": "cf060883",
   "metadata": {
    "colab": {
     "base_uri": "https://localhost:8080/",
     "height": 564
    },
    "id": "cf060883",
    "outputId": "92fb0b7d-4e4a-49e1-952f-da5da370d3f1"
   },
   "outputs": [
    {
     "data": {
      "image/png": "[encoded data removed]",
      "text/plain": [
       "<Figure size 800x600 with 1 Axes>"
      ]
     },
     "metadata": {},
     "output_type": "display_data"
    }
   ],
   "source": [
    "import matplotlib.pyplot as plt\n",
    "\n",
    "# Assuming your DataFrame is called placed_df\n",
    "plt.figure(figsize=(8, 6))\n",
    "plt.boxplot(placed_df['salary'], vert=False)\n",
    "plt.title('Box Plot of Salary')\n",
    "plt.xlabel('Salary')\n",
    "plt.show()\n"
   ]
  },
  {
   "cell_type": "code",
   "execution_count": 10,
   "id": "6a0149ec",
   "metadata": {
    "colab": {
     "base_uri": "https://localhost:8080/",
     "height": 472
    },
    "id": "6a0149ec",
    "outputId": "83f66e1f-9dd9-4ba2-b7ce-b4fc5c977cdf"
   },
   "outputs": [
    {
     "data": {
      "image/png": "[encoded data removed]",
      "text/plain": [
       "<Figure size 640x480 with 1 Axes>"
      ]
     },
     "metadata": {},
     "output_type": "display_data"
    }
   ],
   "source": [
    "# Create a boxplot of the salary column by gender\n",
    "plt.boxplot([placed_df[placed_df['gender'] == 1]['salary'], placed_df[placed_df['gender'] == 0]['salary']], labels=['Male', 'Female'])\n",
    "plt.xlabel('Gender')\n",
    "plt.ylabel('Salary')\n",
    "plt.title('Distribution of salaries by gender')\n",
    "plt.show()"
   ]
  },
  {
   "cell_type": "code",
   "execution_count": 11,
   "id": "22a862e6",
   "metadata": {
    "id": "22a862e6"
   },
   "outputs": [],
   "source": [
    "import seaborn as sns"
   ]
  },
  {
   "cell_type": "code",
   "execution_count": null,
   "id": "D1gLLrDDIwmS",
   "metadata": {
    "id": "D1gLLrDDIwmS"
   },
   "outputs": [],
   "source": []
  },
  {
   "cell_type": "code",
   "execution_count": 12,
   "id": "2e593f19",
   "metadata": {
    "id": "2e593f19"
   },
   "outputs": [],
   "source": [
    "# Assuming your DataFrame is called placed_df\n",
    "placed_df = placed_df[placed_df['salary'] <= 500000]\n"
   ]
  },
  {
   "cell_type": "code",
   "execution_count": 13,
   "id": "0344c0da",
   "metadata": {
    "colab": {
     "base_uri": "https://localhost:8080/",
     "height": 564
    },
    "id": "0344c0da",
    "outputId": "bbb2a2c0-9d4b-491e-c96e-38057f9a4984"
   },
   "outputs": [
    {
     "data": {
      "image/png": "[encoded data removed]",
      "text/plain": [
       "<Figure size 800x600 with 1 Axes>"
      ]
     },
     "metadata": {},
     "output_type": "display_data"
    }
   ],
   "source": [
    "import matplotlib.pyplot as plt\n",
    "\n",
    "# Assuming your DataFrame is called placed_df\n",
    "plt.figure(figsize=(8, 6))\n",
    "plt.boxplot(placed_df['salary'], vert=False)\n",
    "plt.title('Box Plot of Salary')\n",
    "plt.xlabel('Salary')\n",
    "plt.show()\n"
   ]
  },
  {
   "cell_type": "code",
   "execution_count": 14,
   "id": "5a62ee35",
   "metadata": {
    "colab": {
     "base_uri": "https://localhost:8080/",
     "height": 472
    },
    "id": "5a62ee35",
    "outputId": "6cffda73-e785-413f-bca0-f984d835c29b"
   },
   "outputs": [
    {
     "data": {
      "image/png": "[encoded data removed]",
      "text/plain": [
       "<Figure size 640x480 with 1 Axes>"
      ]
     },
     "metadata": {},
     "output_type": "display_data"
    }
   ],
   "source": [
    "# Create a histogram of the 'salary' column\n",
    "sns.histplot(placed_df['salary'], kde=True)\n",
    "plt.title('Salary Histogram')\n",
    "plt.xlabel('Salary')\n",
    "plt.ylabel('Frequency')\n",
    "plt.show()"
   ]
  },
  {
   "cell_type": "code",
   "execution_count": 15,
   "id": "48cef7f1",
   "metadata": {
    "colab": {
     "base_uri": "https://localhost:8080/",
     "height": 472
    },
    "id": "48cef7f1",
    "outputId": "9d4b483e-2afc-4d41-9e5e-9955d3cfcba2"
   },
   "outputs": [
    {
     "data": {
      "image/png": "[encoded data removed]",
      "text/plain": [
       "<Figure size 640x480 with 1 Axes>"
      ]
     },
     "metadata": {},
     "output_type": "display_data"
    }
   ],
   "source": [
    "# Create a boxplot of the salary column by gender\n",
    "plt.boxplot([placed_df[placed_df['gender'] == 1]['salary'], placed_df[placed_df['gender'] == 0]['salary']], labels=['Male', 'Female'])\n",
    "plt.xlabel('Gender')\n",
    "plt.ylabel('Salary')\n",
    "plt.title('Distribution of salaries by gender')\n",
    "plt.show()"
   ]
  },
  {
   "cell_type": "code",
   "execution_count": 16,
   "id": "3c69dabd",
   "metadata": {
    "colab": {
     "base_uri": "https://localhost:8080/"
    },
    "id": "3c69dabd",
    "outputId": "b240d153-1ed7-412d-adf7-31c18c3f1837"
   },
   "outputs": [
    {
     "name": "stdout",
     "output_type": "stream",
     "text": [
      "Features shape: (14355, 12)\n",
      "Class shape: (14355,)\n"
     ]
    }
   ],
   "source": [
    "X =placed_df.drop(['sl_no','status','salary'], axis=1)\n",
    "Y =placed_df['salary']\n",
    "print('Features shape:', X.shape)\n",
    "print('Class shape:', Y.shape)"
   ]
  },
  {
   "cell_type": "code",
   "execution_count": 22,
   "id": "093a0c1f",
   "metadata": {
    "id": "093a0c1f"
   },
   "outputs": [],
   "source": [
    "import pandas as pd\n",
    "from sklearn.model_selection import train_test_split, GridSearchCV\n",
    "from sklearn.linear_model import LinearRegression\n",
    "from sklearn.ensemble import RandomForestRegressor\n",
    "from sklearn.metrics import mean_absolute_error, mean_squared_error\n"
   ]
  },
  {
   "cell_type": "code",
   "execution_count": 23,
   "id": "33bfc136",
   "metadata": {
    "id": "33bfc136"
   },
   "outputs": [],
   "source": [
    "X_train, X_test, y_train, y_test = train_test_split(X, Y, test_size=0.2, random_state=42)"
   ]
  },
  {
   "cell_type": "code",
   "execution_count": 24,
   "id": "0de0aab5",
   "metadata": {
    "id": "0de0aab5"
   },
   "outputs": [],
   "source": [
    "from sklearn.metrics import mean_absolute_error, mean_squared_error, r2_score\n",
    "\n",
    "def regression_model_evaluation(model, Y_predicted, Y_train, Y_test):\n",
    "    print('* Mean Absolute Error (MAE): %0.2f' % mean_absolute_error(Y_test, Y_predicted))\n",
    "    print('* Mean Squared Error (MSE): %0.2f' % mean_squared_error(Y_test, Y_predicted))\n",
    "    print('* Root Mean Squared Error (RMSE): %0.2f' % (mean_squared_error(Y_test, Y_predicted, squared=False)))\n",
    "    print('* R-squared (R2): %0.2f' % r2_score(Y_test, Y_predicted))\n"
   ]
  },
  {
   "cell_type": "code",
   "execution_count": 25,
   "id": "96caa657",
   "metadata": {
    "colab": {
     "base_uri": "https://localhost:8080/"
    },
    "id": "96caa657",
    "outputId": "746b12b9-79fb-4568-cabf-3629b8172d02"
   },
   "outputs": [
    {
     "name": "stdout",
     "output_type": "stream",
     "text": [
      "* Mean Absolute Error (MAE): 41818.99\n",
      "* Mean Squared Error (MSE): 3167066500.71\n",
      "* Root Mean Squared Error (RMSE): 56276.70\n",
      "* R-squared (R2): 0.20\n"
     ]
    }
   ],
   "source": [
    "#regression\n",
    "# Initialize the Linear Regression model\n",
    "linear_regression_model = LinearRegression()\n",
    "\n",
    "# Train the model on the training data\n",
    "linear_regression_model.fit(X_train, y_train)\n",
    "\n",
    "# Make predictions on the testing data\n",
    "y_linear_regression_pred = linear_regression_model.predict(X_test)\n",
    "\n",
    "# Calculate Mean Absolute Error (MAE) for Linear Regression\n",
    "linear_regression_mae = mean_absolute_error(y_test, y_linear_regression_pred)\n",
    "linear_regression_mse = mean_squared_error(y_test, y_linear_regression_pred)\n",
    "\n",
    "# print(\"Linear Regression MAE:\", linear_regression_mae)\n",
    "# print(\"Linear Regression MSE:\", linear_regression_mse)\n",
    "regression_model_evaluation(linear_regression_model,y_linear_regression_pred,y_train,y_test)"
   ]
  },
  {
   "cell_type": "code",
   "execution_count": 26,
   "id": "fd6ad517",
   "metadata": {
    "colab": {
     "base_uri": "https://localhost:8080/"
    },
    "id": "fd6ad517",
    "outputId": "4b39d815-653e-494a-b391-7567c96c40de"
   },
   "outputs": [
    {
     "name": "stdout",
     "output_type": "stream",
     "text": [
      "Fitting 5 folds for each of 2 candidates, totalling 10 fits\n",
      "* Mean Absolute Error (MAE): 41818.99\n",
      "* Mean Squared Error (MSE): 3167066500.71\n",
      "* Root Mean Squared Error (RMSE): 56276.70\n",
      "* R-squared (R2): 0.20\n"
     ]
    }
   ],
   "source": [
    "# Create a Linear Regression model\n",
    "linear_regression_model = LinearRegression()\n",
    "\n",
    "# Define the hyperparameter grid to search over\n",
    "param_grid = {\n",
    "    'fit_intercept': [True, False],\n",
    "}\n",
    "\n",
    "# Create the GridSearchCV object\n",
    "grid_search = GridSearchCV(\n",
    "    linear_regression_model,\n",
    "    param_grid=param_grid,\n",
    "    cv=5,  # You can adjust the number of cross-validation folds\n",
    "    scoring='r2',  # You can use other scoring metrics\n",
    "    verbose=1\n",
    ")\n",
    "\n",
    "# Fit the GridSearchCV object to the training data\n",
    "grid_search.fit(X_train, y_train)\n",
    "\n",
    "# Get the best hyperparameters from the grid search\n",
    "best_params = grid_search.best_params_\n",
    "\n",
    "# Initialize a new Linear Regression model with the best hyperparameters\n",
    "best_linear_regression_model = LinearRegression(**best_params)\n",
    "\n",
    "# Train the model with the best hyperparameters on the full training data\n",
    "best_linear_regression_model.fit(X_train, y_train)\n",
    "\n",
    "# Make predictions on the testing data\n",
    "y_linear_regression_pred = best_linear_regression_model.predict(X_test)\n",
    "\n",
    "# Evaluate the model using your regression evaluation function\n",
    "regression_model_evaluation(best_linear_regression_model, y_linear_regression_pred, y_train, y_test)"
   ]
  },
  {
   "cell_type": "code",
   "execution_count": 27,
   "id": "2d47c818",
   "metadata": {
    "colab": {
     "base_uri": "https://localhost:8080/"
    },
    "id": "2d47c818",
    "outputId": "24cf27ba-f034-47fa-fe4c-4a65a8545b2a"
   },
   "outputs": [
    {
     "name": "stdout",
     "output_type": "stream",
     "text": [
      "* Mean Absolute Error (MAE): 0.00\n",
      "* Mean Squared Error (MSE): 0.00\n",
      "* Root Mean Squared Error (RMSE): 0.00\n",
      "* R-squared (R2): 1.00\n"
     ]
    }
   ],
   "source": [
    "# Initialize the Random Forest Regression model\n",
    "random_forest_model = RandomForestRegressor()\n",
    "\n",
    "# Train the model on the training data\n",
    "random_forest_model.fit(X_train, y_train)\n",
    "\n",
    "# Make predictions on the testing data\n",
    "y_random_forest_pred = random_forest_model.predict(X_test)\n",
    "\n",
    "# Calculate Mean Absolute Error (MAE) for Random Forest Regression\n",
    "random_forest_mae = mean_absolute_error(y_test, y_random_forest_pred)\n",
    "random_forest_mse = mean_squared_error(y_test, y_random_forest_pred)\n",
    "\n",
    "regression_model_evaluation(random_forest_model,y_random_forest_pred,y_train,y_test)\n"
   ]
  },
  {
   "cell_type": "code",
   "execution_count": 28,
   "id": "d7349acf",
   "metadata": {
    "id": "d7349acf"
   },
   "outputs": [
    {
     "name": "stdout",
     "output_type": "stream",
     "text": [
      "Model saved to linear_regression_model.joblib\n"
     ]
    }
   ],
   "source": [
    "import joblib\n",
    "\n",
    "# Specify the file path where you want to save the model\n",
    "model_filename = \"linear_regression_model.joblib\"\n",
    "\n",
    "# Save the model to the specified file\n",
    "joblib.dump(best_linear_regression_model, model_filename)\n",
    "\n",
    "print(f\"Model saved to {model_filename}\")\n"
   ]
  },
  {
   "cell_type": "code",
   "execution_count": 29,
   "id": "15ff1ff3",
   "metadata": {},
   "outputs": [
    {
     "name": "stdout",
     "output_type": "stream",
     "text": [
      "Model saved to random_forest_regression_model.joblib\n"
     ]
    }
   ],
   "source": [
    "import joblib\n",
    "\n",
    "# Specify the file path where you want to save the model\n",
    "model_filename = \"random_forest_regression_model.joblib\"\n",
    "\n",
    "# Save the model to the specified file\n",
    "joblib.dump(random_forest_model, model_filename)\n",
    "\n",
    "print(f\"Model saved to {model_filename}\")\n"
   ]
  },
  {
   "cell_type": "code",
   "execution_count": 37,
   "id": "113120f6",
   "metadata": {},
   "outputs": [
    {
     "name": "stdout",
     "output_type": "stream",
     "text": [
      "[292070.]\n"
     ]
    },
    {
     "name": "stderr",
     "output_type": "stream",
     "text": [
      "C:\\Users\\Lenono\\anaconda3\\Lib\\site-packages\\sklearn\\base.py:465: UserWarning: X does not have valid feature names, but RandomForestRegressor was fitted with feature names\n",
      "  warnings.warn(\n"
     ]
    }
   ],
   "source": [
    "random_data = pd.DataFrame({\n",
    "    'gender': [1],  # Replace with appropriate values for your data\n",
    "    'ssc_p': [75.0],  # Replace with appropriate values for your data\n",
    "    'ssc_b': [1],  # Replace with appropriate values for your data\n",
    "    'hsc_p': [80.0],  # Replace with appropriate values for your data\n",
    "    'hsc_b': [0],  # Replace with appropriate values for your data\n",
    "    'hsc_s': [1],  # Replace with appropriate values for your data\n",
    "    'degree_p': [70.0],  # Replace with appropriate values for your data\n",
    "    'degree_t': [2],  # Replace with appropriate values for your data\n",
    "    'workex': [1],  # Replace with appropriate values for your data\n",
    "    'etest_p': [80.0],  # Replace with appropriate values for your data\n",
    "    'specialisation': [0],  # Replace with appropriate values for your data\n",
    "    'mba_p': [65.0],  # Replace with appropriate values for your data\n",
    "})\n",
    "input_values = [1, 75.0, 1, 80.0, 0, 1, 70.0, 2, 1, 70.0, 0, 65.0]\n",
    "predicted_salary = random_forest_model.predict([input_values])\n",
    "print(predicted_salary)"
   ]
  },
  {
   "cell_type": "code",
   "execution_count": null,
   "id": "e2d4256b",
   "metadata": {},
   "outputs": [],
   "source": []
  }
 ],
 "metadata": {
  "colab": {
   "provenance": []
  },
  "kernelspec": {
   "display_name": "Python 3 (ipykernel)",
   "language": "python",
   "name": "python3"
  },
  "language_info": {
   "codemirror_mode": {
    "name": "ipython",
    "version": 3
   },
   "file_extension": ".py",
   "mimetype": "text/x-python",
   "name": "python",
   "nbconvert_exporter": "python",
   "pygments_lexer": "ipython3",
   "version": "3.11.4"
  }
 },
 "nbformat": 4,
 "nbformat_minor": 5
}
